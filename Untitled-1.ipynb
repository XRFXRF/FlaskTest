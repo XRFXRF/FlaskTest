{
 "cells": [
  {
   "cell_type": "code",
   "execution_count": 1,
   "metadata": {},
   "outputs": [],
   "source": [
    "from Flask_sql import *"
   ]
  },
  {
   "cell_type": "code",
   "execution_count": 7,
   "metadata": {},
   "outputs": [],
   "source": [
    "role= Role(name='ad')"
   ]
  },
  {
   "cell_type": "code",
   "execution_count": 8,
   "metadata": {},
   "outputs": [],
   "source": [
    "db.session.add(role)"
   ]
  },
  {
   "cell_type": "code",
   "execution_count": 9,
   "metadata": {},
   "outputs": [],
   "source": [
    "db.session.commit()"
   ]
  },
  {
   "cell_type": "code",
   "execution_count": 10,
   "metadata": {},
   "outputs": [],
   "source": [
    "user=User(name='xxx',role_id=role.id)\n",
    "db.session.add(user)\n",
    "db.session.commit()"
   ]
  },
  {
   "cell_type": "code",
   "execution_count": 12,
   "metadata": {},
   "outputs": [],
   "source": [
    "user.name='yyy'\n",
    "db.session.commit()"
   ]
  },
  {
   "cell_type": "code",
   "execution_count": 13,
   "metadata": {},
   "outputs": [],
   "source": [
    "db.session.delete(user)\n",
    "db.session.commit()"
   ]
  },
  {
   "cell_type": "code",
   "execution_count": 7,
   "metadata": {},
   "outputs": [],
   "source": [
    "role=Role(name='admin')\n",
    "db.session.add(role)\n",
    "db.session.commit()"
   ]
  },
  {
   "cell_type": "code",
   "execution_count": 8,
   "metadata": {},
   "outputs": [],
   "source": [
    "user1=User(name='ze',role_id=role.id)\n",
    "user2=User(name='ll',role_id=role.id)\n",
    "db.session.add_all([user1,user2])\n",
    "db.session.commit()\n"
   ]
  },
  {
   "cell_type": "code",
   "execution_count": 2,
   "metadata": {},
   "outputs": [],
   "source": [
    "ro1 = Role(name='admin')\n",
    "db.session.add(ro1)\n",
    "db.session.commit()\n",
    "\n",
    "ro2 = Role(name='user')\n",
    "db.session.add(ro2)\n",
    "db.session.commit()"
   ]
  },
  {
   "cell_type": "code",
   "execution_count": 3,
   "metadata": {},
   "outputs": [],
   "source": [
    "us1 = User(name='wang', email='wang@163.com', password='123456', role_id=ro1.id)\n",
    "us2 = User(name='zhang', email='zhang@189.com', password='201512', role_id=ro2.id)\n",
    "us3 = User(name='chen', email='chen@126.com', password='987654', role_id=ro2.id)\n",
    "us4 = User(name='zhou', email='zhou@163.com', password='456789', role_id=ro1.id)\n",
    "us5 = User(name='tang', email='tang@itheima.com', password='158104', role_id=ro2.id)\n",
    "us6 = User(name='wu', email='wu@gmail.com', password='5623514', role_id=ro2.id)\n",
    "us7 = User(name='qian', email='qian@gmail.com', password='1543567', role_id=ro1.id)\n",
    "us8 = User(name='liu', email='liu@itheima.com', password='867322', role_id=ro1.id)\n",
    "us9 = User(name='li', email='li@163.com', password='4526342', role_id=ro2.id)\n",
    "us10 = User(name='sun', email='sun@163.com', password='235523', role_id=ro2.id)\n",
    "db.session.add_all([us1, us2, us3, us4, us5, us6, us7, us8, us9, us10])\n",
    "\n",
    "db.session.commit()"
   ]
  },
  {
   "cell_type": "code",
   "execution_count": 4,
   "metadata": {},
   "outputs": [
    {
     "data": {
      "text/plain": [
       "[<Role:wang 1 wang@163.com 123456>,\n",
       " <Role:zhou 4 zhou@163.com 456789>,\n",
       " <Role:qian 7 qian@gmail.com 1543567>,\n",
       " <Role:liu 8 liu@itheima.com 867322>]"
      ]
     },
     "execution_count": 4,
     "metadata": {},
     "output_type": "execute_result"
    }
   ],
   "source": [
    "ro1.users\n"
   ]
  },
  {
   "cell_type": "code",
   "execution_count": 5,
   "metadata": {},
   "outputs": [
    {
     "data": {
      "text/plain": [
       "[<Role:wang 1 wang@163.com 123456>,\n",
       " <Role:zhang 2 zhang@189.com 201512>,\n",
       " <Role:chen 3 chen@126.com 987654>,\n",
       " <Role:zhou 4 zhou@163.com 456789>,\n",
       " <Role:tang 5 tang@itheima.com 158104>,\n",
       " <Role:wu 6 wu@gmail.com 5623514>,\n",
       " <Role:qian 7 qian@gmail.com 1543567>,\n",
       " <Role:liu 8 liu@itheima.com 867322>,\n",
       " <Role:li 9 li@163.com 4526342>,\n",
       " <Role:sun 10 sun@163.com 235523>]"
      ]
     },
     "execution_count": 5,
     "metadata": {},
     "output_type": "execute_result"
    }
   ],
   "source": [
    "User.query.all()"
   ]
  },
  {
   "cell_type": "code",
   "execution_count": 5,
   "metadata": {},
   "outputs": [
    {
     "data": {
      "text/plain": [
       "10"
      ]
     },
     "execution_count": 5,
     "metadata": {},
     "output_type": "execute_result"
    }
   ],
   "source": [
    "User.query.count()\n"
   ]
  },
  {
   "cell_type": "code",
   "execution_count": 11,
   "metadata": {},
   "outputs": [
    {
     "data": {
      "text/plain": [
       "<Role:zhou 4 zhou@163.com 456789>"
      ]
     },
     "execution_count": 11,
     "metadata": {},
     "output_type": "execute_result"
    }
   ],
   "source": [
    "User.query.get(4)"
   ]
  },
  {
   "cell_type": "code",
   "execution_count": 6,
   "metadata": {},
   "outputs": [
    {
     "data": {
      "text/plain": [
       "'zhou'"
      ]
     },
     "execution_count": 6,
     "metadata": {},
     "output_type": "execute_result"
    }
   ],
   "source": [
    "User.query.filter(User.id==4)[0].name"
   ]
  },
  {
   "cell_type": "code",
   "execution_count": null,
   "metadata": {},
   "outputs": [],
   "source": []
  },
  {
   "cell_type": "code",
   "execution_count": null,
   "metadata": {},
   "outputs": [],
   "source": []
  },
  {
   "cell_type": "code",
   "execution_count": null,
   "metadata": {},
   "outputs": [],
   "source": []
  }
 ],
 "metadata": {
  "interpreter": {
   "hash": "a7e9529f3c7f4d3bd3a3bbe00b9009bd93e117ae327932a8c46b9a7f0495dcaa"
  },
  "kernelspec": {
   "display_name": "Python 3.7.13 ('Flask1')",
   "language": "python",
   "name": "python3"
  },
  "language_info": {
   "codemirror_mode": {
    "name": "ipython",
    "version": 3
   },
   "file_extension": ".py",
   "mimetype": "text/x-python",
   "name": "python",
   "nbconvert_exporter": "python",
   "pygments_lexer": "ipython3",
   "version": "3.7.13"
  },
  "orig_nbformat": 4
 },
 "nbformat": 4,
 "nbformat_minor": 2
}
